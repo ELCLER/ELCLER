{
  "nbformat": 4,
  "nbformat_minor": 0,
  "metadata": {
    "colab": {
      "provenance": [],
      "authorship_tag": "ABX9TyMq6l3SiNPixyJ+Cp7eTHS6",
      "include_colab_link": true
    },
    "kernelspec": {
      "name": "python3",
      "display_name": "Python 3"
    },
    "language_info": {
      "name": "python"
    }
  },
  "cells": [
    {
      "cell_type": "markdown",
      "metadata": {
        "id": "view-in-github",
        "colab_type": "text"
      },
      "source": [
        "<a href=\"https://colab.research.google.com/github/ELCLER/ELCLER/blob/main/ListaPython.ipynb\" target=\"_parent\"><img src=\"https://colab.research.google.com/assets/colab-badge.svg\" alt=\"Open In Colab\"/></a>"
      ]
    },
    {
      "cell_type": "code",
      "execution_count": null,
      "metadata": {
        "id": "ZFwqu_RyRDYL"
      },
      "outputs": [],
      "source": [
        "numero = float(input(\"nª 1\"))\n",
        "numero2 = float(input(\"nª2\"))\n",
        "soma = numero + numero2\n",
        "\n",
        "print(soma)"
      ]
    }
  ]
}