{
  "nbformat": 4,
  "nbformat_minor": 0,
  "metadata": {
    "colab": {
      "provenance": [],
      "authorship_tag": "ABX9TyMZDJMf30dUio1cX5mjiZ64",
      "include_colab_link": true
    },
    "kernelspec": {
      "name": "python3",
      "display_name": "Python 3"
    },
    "language_info": {
      "name": "python"
    }
  },
  "cells": [
    {
      "cell_type": "markdown",
      "metadata": {
        "id": "view-in-github",
        "colab_type": "text"
      },
      "source": [
        "<a href=\"https://colab.research.google.com/github/ELCLER/ELCLER/blob/main/ListaPython.ipynb\" target=\"_parent\"><img src=\"https://colab.research.google.com/assets/colab-badge.svg\" alt=\"Open In Colab\"/></a>"
      ]
    },
    {
      "cell_type": "code",
      "execution_count": null,
      "metadata": {
        "id": "ZFwqu_RyRDYL"
      },
      "outputs": [],
      "source": [
        "numero = float(input(\"nª 1\"))\n",
        "numero2 = float(input(\"nª2\"))\n",
        "soma = numero + numero2\n",
        "\n",
        "print(soma)"
      ]
    },
    {
      "cell_type": "code",
      "source": [
        "numero = int(input(\"nº\"))\n",
        "#Processamanto\n",
        "if numero % 2 ==0:\n",
        "  resultado = \"par\"\n",
        "else:\n",
        "  resultado = \"impar\"\n",
        "\n",
        "print(resultado)"
      ],
      "metadata": {
        "colab": {
          "base_uri": "https://localhost:8080/"
        },
        "id": "Gaqnl4PdVC8I",
        "outputId": "912fa76f-b521-4576-9c08-f3a1ef6f4e56"
      },
      "execution_count": 5,
      "outputs": [
        {
          "output_type": "stream",
          "name": "stdout",
          "text": [
            "nº965420\n",
            "par\n"
          ]
        }
      ]
    }
  ]
}